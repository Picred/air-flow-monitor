{
 "cells": [
  {
   "cell_type": "markdown",
   "id": "b7fba4a5-16a5-4d30-8616-f6812693579f",
   "metadata": {},
   "source": [
    "# Air Quality Monitor"
   ]
  },
  {
   "cell_type": "markdown",
   "id": "4c8a5fc6-cc4e-42d0-83c3-d01d8250d298",
   "metadata": {},
   "source": [
    "## Introduzione\n",
    "\n",
    "*Air Quality Monitor è un progetto universitario che nasce con lo scopo di tenere traccia della qualità dell’aria in ogni momento delle \n",
    "maggiori città del mondo.*\n",
    "\n",
    "Il progetto è reso possibile grazie all’utilizzo di <u>API</u> di [IQAir](https://www.iqair.com/it/) che vengono fornite tramite registrazione gratuita al servizio, quindi con l’utilizzo di una chiave che viene fornita successivamente e che ha la validità di un anno.\n",
    "\n",
    "Fra le varie tecnologie utilizzate vi sono **Docker**, **Logstash**, **Kafka** $\\rightarrow$ **TODO**\n",
    "\n",
    "Il progetto è visualizzabile al seguente [link](https://github.com/Picred/air-quality-monitor) di Github dove vi è la guida per l’avvio nel file `README.md`\n",
    "\n",
    "L’intero progetto è sostenuto da Docker. Tramite questa tecnologia è possibile gestire i cosiddetti *container* che permettono di immagazzinare il tutto in luogo facilmente riproducibile su qualsiasi altra macchina che sfrutti Docker."
   ]
  },
  {
   "cell_type": "markdown",
   "id": "de99fe29-5cac-43de-b8ad-db845df50331",
   "metadata": {},
   "source": [
    "## Il servizio di IQAir\n",
    "\n",
    "![IQAir Logo](https://upload.wikimedia.org/wikipedia/en/thumb/5/5f/IQAir_logo.svg/360px-IQAir_logo.svg.png)\n",
    "\n",
    "IQAir è un servizio specializzo nell’analisi della qualità dell’aria. In particolare si occupa di:\n",
    "1.\toffrire strumenti e servizi per **monitorare l’inquinamento atmosferico** in tempo reale. Questo include l’*Indice di Qualità dell’Aria (AQI)*, che fornisce informazioni sulla qualità dell’aria in diverse località;\n",
    "2.\tprodurre purificatori d’aria avanzati per migliorare la qualità dell’aria negli ambienti interni. Questi dispositivi rimuovono particelle sospese nell’aria, come **polveri sottili** (*PM2.5*), allergeni e altre sostanze nocive;\n",
    "3.\tclassificare le città inquinate pubblicando tali classifiche basate sui livelli di PM2.5. Questo sensibilizza le persone sull’importanza di affrontare l’inquinamento atmosferico e di adottare misure per ridurlo.\n",
    "\n",
    "Per l’utilizzo delle API è presenta la documentazione online che è consultabile al [seguente link](https://api-docs.iqair.com/#f6cadcfb-1522-40a3-8d38-1b98a92faf0c). In breve, è possibile eseguire alcune operazioni (di tipo *GET*) che permettono di ottenere dati riguardanti:\n",
    "-\tTutti gli stati supportati;\n",
    "-\tTutte le regioni supportate in uno stato;\n",
    "-\tTutte le città supportate in una regione;\n",
    "-\tLa città più vicina geograficamente (*tramite analisi dell’indirizzo IP*);\n",
    "-\tLa città più vicina geograficamente (*tramite le coordinate GPS*);\n",
    "-\tUna città specificata fra le disponibili."
   ]
  },
  {
   "cell_type": "markdown",
   "id": "6cc4fcac-a7bb-4288-84bf-d342a4e51bbb",
   "metadata": {},
   "source": [
    "## Ingestion Manager (python)\n",
    "\n",
    "E' stato scritto un file `ingestion-manager.py` in modo tale da gestire più da vicino quello che accade. \n",
    "\n",
    "In tale script viene usata la libreria **requests** per fare delle richieste HTTP ai vari URL che permettono di usare le API di IQAir per recuperare i dati di nostro interesse.\n",
    "\n",
    "Per quanto riguarda la connessione fra i dati ricevuti dalle chiamate API e Logstash si è optato, come specificato prima, di utilizzare la libreria [pylogbeat](https://pypi.org/project/pylogbeat/) in modo da semplificare la complessità del codice. All’interno dell’`ingestion-manager.py` vi sono anche dei controlli che riguardano le variabili d’ambiente.\n",
    "\n",
    "### Funzionamento e logica\n",
    "\n",
    "Il file `ingestion-manager.py` viene usato per fare le chiamate GET al server IQAir. In particolar modo è necessaria la registrazione al servizio per l’ottenimento dell’**API_KEY** usata per comporre i link corretti. Di base, nel container Docker che viene creato, vengono impostate delle variabili d’ambiente di default, tra cui:\n",
    "* `DATA_ACTION`, che permette di definire l’azione da eseguire sui dati che è una di quelle che è fornita dalle API (descritte nell’Introduzione) che possono essere:\n",
    "  - `ALL_COUNTRIES` per ottenere tutte le nazioni supportate;\n",
    "  - `NEAREST_IP_CITY` per ottenere la città più vicina (tramite IP);\n",
    "  - `NEAREST_GPS_CITY` per ottenere la città più vicina (tramite GPS);\n",
    "  - `ALL_STATES_BY_COUNTRY` per ottenere tuStte le regioni in una nazione;\n",
    "  - `ALL_CITIES_BY_STATE_COUNTRY` per ottenere tutte le città in una specifica regione e nazione.\n",
    "* `API_KEY` banalmente quella fornita in seguito alla registrazione su IQAir\n",
    "* `COUNTRY_NAME` nome della nazione da analizzare\n",
    "* `STATE_NAME` nome della regione da analizzare\n",
    "* `GPS_LAT` latitudine della posizione da analizzare\n",
    "* `GPS_LON` longitudine della posizione da analizzare\n",
    "* `CITY_TO_SCAN` città specifica da analizzare\n",
    "> *N.B: Alla scelta del nome della nazione-regione-città da analizzare bisogna sceglierne una fra le disponibili a tale analisi.*\n",
    "\n",
    "In seguito alla scelta della DATA_ACTION da eseguire è necessario verificare che le dipendenze fra le variabili d'ambiente sia rispettata. Esse sono ben definite come nella seguente tabella:\n",
    "\n",
    "\n",
    "|           DATA_ACTION        |               DIPENDENZE          |\n",
    "| -----------------------------| ----------------------------------|\n",
    "|          ALL_COUNTRIES       |               API_KEY             |\n",
    "|         NEAREST_IP_CITY      |               API_KEY             |\n",
    "|       ALL_STATES_BY_COUNTRY  |           API_KEY, STATE_NAME     |\n",
    "| ALL_CITIES_BY_STATE_COUNTRY  |  API_KEY, STATE_NAME, COUNTRY_NAME|\n",
    "|          NEAREST_GPS_CITY    |      API_KEY, GPS_LAT, GPS_LON    |\n",
    "\n",
    "#### Esempi\n",
    "1.\tPer vedere **tutte le nazioni supportate** serve impostare `DATA_ACTION=\"ALL_COUNTRIES\"` e `API_KEY=\"{YOUR_KEY}\"`\n",
    "2.\tPer vedere una **determinata posizione geografica** serve impostare `DATA_ACTION=\"NEAREST_GPS_CITY\"`, `API_KEY=\"{key}\"`, `GPS_LAT=\"{latitudine}\"` e `GPS_LON=\"{longitudine}\"`\n",
    "\n",
    "> *All’interno dello script vi sono anche delle verifiche che guidano l’utente finale al giusto setup dell’applicazione, come per esempio la verifica dell’avvenuta impostazione della `API_KEY` o che sia stato correttamente avviato il container Logstash dal quale l’ingestion-manager dipende.*"
   ]
  },
  {
   "cell_type": "markdown",
   "id": "00303353-b951-4723-8b3c-d5145e6b52fd",
   "metadata": {},
   "source": [
    "## Logstash\n",
    "\n",
    "![Logstash Logo](https://cdn.icon-icons.com/icons2/2699/PNG/256/elasticco_logstash_logo_icon_170185.png)\n",
    "\n",
    "La scelta di tale tecnologia è basata sul fatto che il file di configurazione è **molto semplice da scrivere**, in quanto si limita ad essere un file come quello sottostante:"
   ]
  },
  {
   "cell_type": "code",
   "execution_count": null,
   "id": "66de4a20-5e43-4d7d-b4a5-bc2b651d2910",
   "metadata": {
    "scrolled": true
   },
   "outputs": [],
   "source": [
    "input{\n",
    "    ...\n",
    "}\n",
    "\n",
    "filter{\n",
    "    ...\n",
    "}\n",
    "\n",
    "output{\n",
    "    ...\n",
    "}"
   ]
  },
  {
   "cell_type": "markdown",
   "id": "637a0bba-4a57-4196-8eb0-3c1d924d7d3c",
   "metadata": {},
   "source": [
    "Nel nostro caso l’input avverrà tramite [Beats](https://www.elastic.co/beats) che è un plugin di input di Logstash che, rispetto a `TCP`:\n",
    "- permette di semplificare il processo di configurazione che avviene manualmente con `TCP`;\n",
    "- gestisce **automaticamente** questa struttura dati, **semplificando l'elaborazione e l'analisi dei dati.**\n",
    "\n",
    "Inoltre, è stata fatta questa scelta perché con `TCP` vi era un errore del tipo:\n",
    "<code><font color=\"red\">Caused by: org.logstash.beats.InvalidFrameProtocolException: Invalid version of beats protocol: 123</font></code>"
   ]
  },
  {
   "cell_type": "markdown",
   "id": "c4f2379f-6162-4521-9a4c-3b620cb20cc2",
   "metadata": {},
   "source": [
    "Logstash ha i <span style=\"font-weight:bold; color:green;\">file di configurazione molto intuitivi e brevi</span> rispetto alle altre tecnologie di Data Ingestion ma, a differenza loro, crea degli <span style=\"color:red; font-weight:bold;\">eventi molto più complessi</span> con delle ridondanze. A discapito di questo si preferisce l’uso di una configurazione più semplice\n",
    "\n",
    "Per queste ragioni vi è stato un adattamento anche da parte dello script Python ingestion-manager.py che **inizialmente** utilizzava i metodi forniti dalla libreria `socket` di Python come indicato sotto:"
   ]
  },
  {
   "cell_type": "code",
   "execution_count": null,
   "id": "00df571e-d7e2-4a63-b5eb-465ad4a9ac0b",
   "metadata": {},
   "outputs": [],
   "source": [
    "import socket\n",
    "sockfd = socket.socket(socket.AF_INET, socket.SOCK_STREAM)\n",
    "sockfd.connect(('logstash', 5044))"
   ]
  },
  {
   "cell_type": "markdown",
   "id": "0fc23805-46ce-4552-8f77-796741368654",
   "metadata": {},
   "source": [
    "Per quanto riguarda il file di configurazione in `air-quality-monitor/logstash/pipeline/from_python_to_kafka.conf` sono stati impostai i seguenti *plugin*:\n",
    "- **input**: `beats` che è in ascolto sulla porta specificata e attende dati da client esterni (*`ingestion_manager.py` nel nostro caso*);\n",
    "- **output**: è direzionato su un Topic di Kafka, in particolare al container che esegue il Server di Kafka. In particolare viene specificato anche il Topic che viene automaticamente creato se esso non esiste."
   ]
  }
 ],
 "metadata": {
  "kernelspec": {
   "display_name": "Python 3 (ipykernel)",
   "language": "python",
   "name": "python3"
  },
  "language_info": {
   "codemirror_mode": {
    "name": "ipython",
    "version": 3
   },
   "file_extension": ".py",
   "mimetype": "text/x-python",
   "name": "python",
   "nbconvert_exporter": "python",
   "pygments_lexer": "ipython3",
   "version": "3.10.12"
  }
 },
 "nbformat": 4,
 "nbformat_minor": 5
}
