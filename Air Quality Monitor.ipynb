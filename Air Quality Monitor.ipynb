{
 "cells": [
  {
   "cell_type": "markdown",
   "id": "b7fba4a5-16a5-4d30-8616-f6812693579f",
   "metadata": {},
   "source": [
    "# Air Quality Monitor"
   ]
  },
  {
   "cell_type": "markdown",
   "id": "b1188d2a-5190-4c8e-8deb-7c013a4ccda5",
   "metadata": {},
   "source": [
    "## Introduzione"
   ]
  },
  {
   "cell_type": "markdown",
   "id": "470cd891-5ce6-4816-8d28-21986f643695",
   "metadata": {},
   "source": [
    "*Air Quality Monitor è un progetto universitario che nasce con lo scopo di tenere traccia della qualità dell’aria in ogni momento delle \n",
    "maggiori città del mondo.*\n",
    "\n",
    "Il progetto è reso possibile grazie all’utilizzo di <u>API</u> di [IQAir](https://www.iqair.com/it/) che vengono fornite tramite registrazione gratuita al servizio, quindi con l’utilizzo di una chiave che viene fornita successivamente e che ha la validità di un anno.\n",
    "\n",
    "Fra le varie tecnologie utilizzate vi sono **Docker**, **Logstash**, **Kafka** $\\rightarrow$ **TODO**\n",
    "\n",
    "Il progetto è visualizzabile al seguente [link](https://github.com/Picred/air-quality-monitor) di Github dove vi è la guida per l’avvio nel file `README.md`\n",
    "\n",
    "L’intero progetto è sostenuto da Docker. Tramite questa tecnologia è possibile gestire i cosiddetti *container* che permettono di immagazzinare il tutto in luogo facilmente riproducibile su qualsiasi altra macchina che sfrutti Docker."
   ]
  },
  {
   "cell_type": "markdown",
   "id": "59545ade-a304-4338-ad23-22938b05c179",
   "metadata": {},
   "source": [
    "## Il servizio di IQAir"
   ]
  },
  {
   "cell_type": "markdown",
   "id": "6a5a1165-3592-481e-ba78-c0b55712fadd",
   "metadata": {},
   "source": [
    "![IQAir Logo](https://upload.wikimedia.org/wikipedia/en/thumb/5/5f/IQAir_logo.svg/256px-IQAir_logo.svg.png)"
   ]
  },
  {
   "cell_type": "markdown",
   "id": "3a916abe-4ff9-4fef-924a-5ea4be299334",
   "metadata": {},
   "source": [
    "**IQAir** è un servizio specializzo nell’analisi della qualità dell’aria. In particolare si occupa di:\n",
    "1. offrire strumenti e servizi per **monitorare l’inquinamento atmosferico** in tempo reale. Questo include l’*Indice di Qualità dell’Aria (AQI)*, che fornisce informazioni sulla qualità dell’aria in diverse località;\n",
    "2. produrre purificatori d’aria avanzati per migliorare la qualità dell’aria negli ambienti interni. Questi dispositivi rimuovono particelle sospese nell’aria, come **polveri sottili** (*PM2.5*), allergeni e altre sostanze nocive;\n",
    "3. classificare le città inquinate pubblicando tali classifiche basate sui livelli di PM2.5. Questo sensibilizza le persone sull’importanza di affrontare l’inquinamento atmosferico e di adottare misure per ridurlo."
   ]
  },
  {
   "cell_type": "markdown",
   "id": "545b1406-86c3-4399-8562-211fae276135",
   "metadata": {},
   "source": [
    "Per l’utilizzo delle API è presenta la documentazione online che è consultabile al [seguente link](https://api-docs.iqair.com/#f6cadcfb-1522-40a3-8d38-1b98a92faf0c). In breve, è possibile eseguire alcune operazioni (di tipo *GET*) che permettono di ottenere dati riguardanti:\n",
    "-\tTutti gli stati supportati;\n",
    "-\tTutte le regioni supportate in uno stato;\n",
    "-\tTutte le città supportate in una regione;\n",
    "-\tLa città più vicina geograficamente (*tramite analisi dell’indirizzo IP*);\n",
    "-\tLa città più vicina geograficamente (*tramite le coordinate GPS*);\n",
    "-\tUna città specificata fra le disponibili."
   ]
  },
  {
   "cell_type": "markdown",
   "id": "6d18f67c-2287-4e8f-aff2-0758d619a42f",
   "metadata": {},
   "source": [
    "## Docker"
   ]
  },
  {
   "cell_type": "markdown",
   "id": "f0e5b45d-4404-43e0-83a7-085b46e60c03",
   "metadata": {},
   "source": [
    "![docker-logo](https://www.mercurio.it/sites/mercurio.it/files/field/image/homepage-docker-logo.png)"
   ]
  },
  {
   "cell_type": "markdown",
   "id": "e2d585ab-f683-456d-a71b-5d8e2dcbdf73",
   "metadata": {},
   "source": [
    "[Docker](https://www.docker.com/) è una piattaforma di sviluppo software che permette di **creare**, **distribuire** e **gestire applicazioni** in contenitori (*container*) leggeri e autonomi. \n",
    "\n",
    "I contenitori Docker includono tutto il necessario per eseguire un'applicazione, come codice, librerie e dipendenze, garantendo che l'applicazione funzioni in modo coerente in qualsiasi ambiente. "
   ]
  },
  {
   "cell_type": "markdown",
   "id": "7f1c36e8-25a6-43d2-9352-5355d0a2c0d5",
   "metadata": {},
   "source": [
    "*Questa tecnologia è ampiamente utilizzata nello sviluppo e nella distribuzione di software, facilitando la creazione di ambienti isolati e riproducibili.*"
   ]
  },
  {
   "cell_type": "markdown",
   "id": "0cbc3fe3-c506-40e4-95c8-d3b3fae0cd62",
   "metadata": {},
   "source": [
    "Nel caso di questo progetto, verrà usata un'**immagine Docker personalizzata** per l'avvio dei container che gestiscono Apache Zookeeper e Apache Kafka"
   ]
  },
  {
   "cell_type": "markdown",
   "id": "685204b4-9c9e-4ee0-a039-d1ef4201f86f",
   "metadata": {},
   "source": [
    "### Docker Compose"
   ]
  },
  {
   "cell_type": "markdown",
   "id": "e35951cd-1a85-465f-bee5-010b8615fe1a",
   "metadata": {},
   "source": [
    "[Docker Compose](https://docs.docker.com/compose/) è uno strumento che consente di definire e gestire applicazioni **multi-container Docker**. Con Docker Compose, si possono descrivere le diverse parti dell'applicazione in un file di configurazioneYAML, inclusi i servizi, le reti e i volumi necessari, insieme alle configurazioni di ciascun componente. \n",
    "\n",
    "Questo file di configurazione semplifica la gestione delle applicazioni distribuite su più contenitori, consentendo di avviare, arrestare e aggiornare facilmente l'intero stack di applicazioni con un **unico comando**."
   ]
  },
  {
   "cell_type": "markdown",
   "id": "7ebf0c9d-9527-446b-a77c-0a49b9bef637",
   "metadata": {},
   "source": [
    "## Ingestion Manager (python)"
   ]
  },
  {
   "cell_type": "markdown",
   "id": "359f7c44-6b78-43fb-bbc5-cec315e6a29b",
   "metadata": {
    "jp-MarkdownHeadingCollapsed": true
   },
   "source": [
    "E' stato scritto un file `ingestion-manager.py` in modo tale da gestire più da vicino quello che accade. \n",
    "\n",
    "In tale script viene usata la libreria **requests** per fare delle richieste HTTP ai vari URL che permettono di usare le API di IQAir per recuperare i dati di nostro interesse.\n",
    "\n",
    "Per quanto riguarda la connessione fra i dati ricevuti dalle chiamate API e Logstash si è optato, come specificato prima, di utilizzare la libreria [pylogbeat](https://pypi.org/project/pylogbeat/) in modo da semplificare la complessità del codice. All’interno dell’`ingestion-manager.py` vi sono anche dei controlli che riguardano le variabili d’ambiente."
   ]
  },
  {
   "cell_type": "markdown",
   "id": "037b6ebc-ce1b-4fa4-a82c-4a95cedff004",
   "metadata": {},
   "source": [
    "### Funzionamento e logica"
   ]
  },
  {
   "cell_type": "markdown",
   "id": "f279391a-33a9-4e75-85b8-40fc78177742",
   "metadata": {},
   "source": [
    "Il file `ingestion-manager.py` viene usato per fare le chiamate GET al server IQAir. In particolar modo è necessaria la registrazione al servizio per l’ottenimento dell’**API_KEY** usata per comporre i link corretti. Di base, nel container Docker che viene creato, vengono impostate delle variabili d’ambiente di default, tra cui:"
   ]
  },
  {
   "cell_type": "markdown",
   "id": "6b8d1b52-34bb-4775-86ce-78906cbf1a37",
   "metadata": {},
   "source": [
    "* `DATA_ACTION`, che permette di definire l’azione da eseguire sui dati che è una di quelle che è fornita dalle API (descritte nell’Introduzione) che possono essere:\n",
    "  - `ALL_COUNTRIES` per ottenere tutte le nazioni supportate;\n",
    "  - `NEAREST_IP_CITY` per ottenere la città più vicina (tramite IP);\n",
    "  - `NEAREST_GPS_CITY` per ottenere la città più vicina (tramite GPS);\n",
    "  - `ALL_STATES_BY_COUNTRY` per ottenere tuStte le regioni in una nazione;\n",
    "  - `ALL_CITIES_BY_STATE_COUNTRY` per ottenere tutte le città in una specifica regione e nazione.\n",
    "* `API_KEY` banalmente quella fornita in seguito alla registrazione su IQAir;\n",
    "* `COUNTRY_NAME` nome della nazione da analizzare;\n",
    "* `STATE_NAME` nome della regione da analizzare;\n",
    "* `GPS_LAT` latitudine della posizione da analizzare;\n",
    "* `GPS_LON` longitudine della posizione da analizzare;\n",
    "* `CITY_TO_SCAN` città specifica da analizzare."
   ]
  },
  {
   "cell_type": "markdown",
   "id": "a2931771-fbbb-4819-852f-34bd93a9bbac",
   "metadata": {},
   "source": [
    "*N.B: Alla scelta del nome della nazione-regione-città da analizzare bisogna sceglierne una fra le disponibili a tale analisi.*"
   ]
  },
  {
   "cell_type": "markdown",
   "id": "bb96fa9d-04db-43a5-a449-70b5689b9e66",
   "metadata": {},
   "source": [
    "In seguito alla scelta della `DATA_ACTION` da eseguire è necessario verificare che le dipendenze fra le variabili d'ambiente sia rispettata. Esse sono ben definite come nella seguente tabella:"
   ]
  },
  {
   "cell_type": "markdown",
   "id": "f536fe1a-d4a5-476c-abb0-8fa341f0a5c3",
   "metadata": {
    "jp-MarkdownHeadingCollapsed": true
   },
   "source": [
    "|           DATA_ACTION          |               DIPENDENZE           |\n",
    "|:------------------------------:|:----------------------------------:|\n",
    "|          ALL_COUNTRIES         |               API_KEY              |\n",
    "|         NEAREST_IP_CITY        |               API_KEY              |\n",
    "|       ALL_STATES_BY_COUNTRY    |           API_KEY, STATE_NAME      |\n",
    "| ALL_CITIES_BY_STATE_COUNTRY    |  API_KEY, STATE_NAME, COUNTRY_NAME |\n",
    "|          NEAREST_GPS_CITY      |      API_KEY, GPS_LAT, GPS_LON     |"
   ]
  },
  {
   "cell_type": "markdown",
   "id": "20aaf9c0-35ae-4d47-8eca-b88db235e4f8",
   "metadata": {},
   "source": [
    "#### Esempi\n",
    "1.\tPer vedere **tutte le nazioni supportate** serve impostare `DATA_ACTION=\"ALL_COUNTRIES\"` e `API_KEY=\"{YOUR_KEY}\"`\n",
    "2.\tPer vedere una **determinata posizione geografica** serve impostare `DATA_ACTION=\"NEAREST_GPS_CITY\"`, `API_KEY=\"{YOUR_KEY}\"`, `GPS_LAT=\"{latitudine}\"` e `GPS_LON=\"{longitudine}\"`\n",
    "\n",
    "> *All’interno dello script vi sono anche delle verifiche che guidano l’utente finale al giusto setup dell’applicazione, come per esempio la verifica dell’avvenuta impostazione della `API_KEY` o che sia stato correttamente avviato il container Logstash dal quale l’ingestion-manager dipende.*"
   ]
  },
  {
   "cell_type": "markdown",
   "id": "f345f3d2-9de3-485f-b873-f6066e16fa86",
   "metadata": {},
   "source": [
    "## Logstash"
   ]
  },
  {
   "cell_type": "markdown",
   "id": "adf35eb3-59d0-43af-bb73-2b215a552f47",
   "metadata": {},
   "source": [
    "![Logstash Logo](https://cdn.icon-icons.com/icons2/2699/PNG/256/elasticco_logstash_logo_icon_170185.png)"
   ]
  },
  {
   "cell_type": "markdown",
   "id": "284abdf8-4063-43dd-9e14-ab4c729c2720",
   "metadata": {},
   "source": [
    "La scelta di tale tecnologia è basata sul fatto che il file di configurazione è **molto semplice da scrivere**, in quanto si limita ad essere un file come quello sottostante:"
   ]
  },
  {
   "cell_type": "markdown",
   "id": "e741de58-9214-401b-9607-46b7b3815822",
   "metadata": {
    "scrolled": true
   },
   "source": [
    "```yml\n",
    "input{\n",
    "    ...\n",
    "}\n",
    "\n",
    "filter{\n",
    "    ...\n",
    "}\n",
    "\n",
    "output{\n",
    "    ...\n",
    "}\n",
    "```"
   ]
  },
  {
   "cell_type": "markdown",
   "id": "4da1818b-a072-41ba-a2f5-b1cef1e8a97f",
   "metadata": {
    "scrolled": true
   },
   "source": [
    "La **documentazione ufficiale** di Logstash è reperibile [qui](https://www.elastic.co/guide/en/logstash/current/index.html) mentre la **documentazione per i plugin** è disponibile ai seguenti link:"
   ]
  },
  {
   "cell_type": "markdown",
   "id": "0b34087b-7e8f-49f1-9d79-10187cd06a30",
   "metadata": {
    "scrolled": true
   },
   "source": [
    "- [INPUT](https://www.elastic.co/guide/en/logstash/current/input-plugins.html) plugins\n",
    "- [FILTER](https://www.elastic.co/guide/en/logstash/current/filter-plugins.html) plugins\n",
    "- [OUTPUT](https://www.elastic.co/guide/en/logstash/current/output-plugins.html) plugins"
   ]
  },
  {
   "cell_type": "markdown",
   "id": "64546a8d-4ac0-4f73-a0b2-7b20f410f473",
   "metadata": {},
   "source": [
    "Nel nostro caso l’input avverrà tramite [Beats](https://www.elastic.co/beats) che è un plugin di Logstash che, rispetto a `TCP`:\n",
    "- permette di **semplificare il processo di configurazione** che avviene manualmente con `TCP`;\n",
    "- gestisce **automaticamente** questa struttura dati, **semplificando l'elaborazione e l'analisi dei dati.**\n",
    "\n",
    "Inoltre, è stata fatta questa scelta perché con `TCP` vi era un errore del tipo:"
   ]
  },
  {
   "cell_type": "markdown",
   "id": "fb29f8ca-eac3-478b-8eb6-ea3ffffbf691",
   "metadata": {},
   "source": [
    "<code><font color=\"red\">Caused by: org.logstash.beats.InvalidFrameProtocolException: Invalid version of beats protocol: 123</font></code>"
   ]
  },
  {
   "cell_type": "markdown",
   "id": "c4f2379f-6162-4521-9a4c-3b620cb20cc2",
   "metadata": {},
   "source": [
    "Logstash ha i <span style=\"font-weight:bold; color:green;\">file di configurazione molto intuitivi e brevi</span> rispetto alle altre tecnologie di Data Ingestion ma, a differenza loro, crea degli <span style=\"color:red; font-weight:bold;\">eventi molto più complessi</span> con delle ridondanze. A discapito di questo si preferisce l’uso di una configurazione più semplice\n",
    "\n",
    "Per queste ragioni vi è stato un adattamento anche da parte dello script Python ingestion-manager.py che **inizialmente** utilizzava i metodi forniti dalla libreria `socket` di Python come indicato sotto:"
   ]
  },
  {
   "cell_type": "code",
   "execution_count": null,
   "id": "00df571e-d7e2-4a63-b5eb-465ad4a9ac0b",
   "metadata": {},
   "outputs": [],
   "source": [
    "import socket\n",
    "sockfd = socket.socket(socket.AF_INET, socket.SOCK_STREAM)\n",
    "sockfd.connect(('logstash', 5044))"
   ]
  },
  {
   "cell_type": "markdown",
   "id": "0fc23805-46ce-4552-8f77-796741368654",
   "metadata": {},
   "source": [
    "Per quanto riguarda il file di configurazione in `air-quality-monitor/logstash/pipeline/from_python_to_kafka.conf` sono stati impostai i seguenti *plugin*:\n",
    "- **input**: `beats` che è in ascolto sulla porta specificata e attende dati da client esterni (*`ingestion_manager.py` nel nostro caso*);\n",
    "- **output**: è direzionato su un Topic di Kafka, in particolare al container che esegue il Server di Kafka. In particolare viene specificato anche il Topic che viene automaticamente creato se esso non esiste."
   ]
  },
  {
   "cell_type": "markdown",
   "id": "e879bced-8067-489d-a6b0-1682e3d9ec6b",
   "metadata": {},
   "source": [
    "## Apache Kafka"
   ]
  },
  {
   "cell_type": "markdown",
   "id": "8a64f479-bb51-4154-aade-5bb0441158cc",
   "metadata": {},
   "source": [
    "![kafka-logo](https://miro.medium.com/v2/resize:fit:325/0*kdp_y7VTwZ-499q6.png)"
   ]
  },
  {
   "cell_type": "markdown",
   "id": "f259e176-2537-4b40-97bd-72fa93856b17",
   "metadata": {},
   "source": [
    "La versione utilizzata di [Apache Kafka](https://kafka.apache.org/) è `2.13-3.7.0` e viene scaricata mediante: `wget https://downloads.apache.org/kafka/3.7.0/kafka_2.13-3.7.0.tgz`"
   ]
  },
  {
   "cell_type": "markdown",
   "id": "246f3932-02ac-4b97-840b-ae55982011aa",
   "metadata": {},
   "source": [
    "[Apache Kafka Download](https://downloads.apache.org/kafka/3.7.0/)"
   ]
  },
  {
   "cell_type": "markdown",
   "id": "72179735-309e-4428-8ed2-182a6b1371d9",
   "metadata": {},
   "source": [
    "### Apache Zookeeper"
   ]
  },
  {
   "cell_type": "markdown",
   "id": "9a061c03-efda-4798-b345-7e1afdfaa394",
   "metadata": {},
   "source": [
    "![zookeeper-logo](https://upload.wikimedia.org/wikipedia/commons/thumb/7/77/Apache_ZooKeeper_logo.svg/300px-Apache_ZooKeeper_logo.svg.png)"
   ]
  },
  {
   "cell_type": "markdown",
   "id": "b9f492fd-4b84-42f4-9207-6524df278679",
   "metadata": {},
   "source": [
    "[Apache Zookeeper](https://zookeeper.apache.org/) è un servizio di **coordinamento distribuito** che viene utilizzato per gestire e coordinare le risorse all'interno di un ambiente distribuito. Serve come registro centralizzato per informazioni critiche come configurazioni, stati, chiavi e altri metadati.\n",
    "\n",
    "E' molto utile per il *Server Kafka* in quanto esegue le seguenti attività:"
   ]
  },
  {
   "cell_type": "markdown",
   "id": "bf8de61c-abc6-49a6-b767-240f944a9b72",
   "metadata": {},
   "source": [
    "- **Coordinamento dei nodi del cluster Kafka**: ZooKeeper gestisce l'elezione dei leader e il monitoraggio dello stato dei nodi del cluster Kafka. Senza ZooKeeper, non ci sarebbe un meccanismo affidabile per la gestione del cluster.\n",
    "- **Gestione dei commit degli offset dei consumatori**: ZooKeeper tiene traccia degli offset dei consumatori, che indicano la posizione di un consumatore in un topic. Questo è fondamentale per garantire che i consumatori possano riprendere la lettura dai punti in cui si sono fermati in caso di guasti o riavvii.\n",
    "- **Gestione delle configurazioni di Kafka**: ZooKeeper memorizza le configurazioni critiche di Kafka, come i dettagli sui topic, i permessi di accesso e altre impostazioni di configurazione."
   ]
  },
  {
   "cell_type": "markdown",
   "id": "0117f10b-ed37-49e1-be1b-04fdc6ed7ff6",
   "metadata": {},
   "source": [
    "## Apache Spark"
   ]
  },
  {
   "cell_type": "markdown",
   "id": "19e6e0d2-b8c8-4002-a3cb-f1f7f8066a15",
   "metadata": {},
   "source": [
    "![spark-logo](https://upload.wikimedia.org/wikipedia/commons/thumb/f/f3/Apache_Spark_logo.svg/400px-Apache_Spark_logo.svg.png)"
   ]
  },
  {
   "cell_type": "code",
   "execution_count": null,
   "id": "b88f07e9-4391-4f33-9cd1-45b4ba051cd6",
   "metadata": {},
   "outputs": [],
   "source": []
  }
 ],
 "metadata": {
  "kernelspec": {
   "display_name": "Python 3 (ipykernel)",
   "language": "python",
   "name": "python3"
  },
  "language_info": {
   "codemirror_mode": {
    "name": "ipython",
    "version": 3
   },
   "file_extension": ".py",
   "mimetype": "text/x-python",
   "name": "python",
   "nbconvert_exporter": "python",
   "pygments_lexer": "ipython3",
   "version": "3.10.12"
  }
 },
 "nbformat": 4,
 "nbformat_minor": 5
}
